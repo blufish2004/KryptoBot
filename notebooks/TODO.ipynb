{
 "cells": [
  {
   "cell_type": "markdown",
   "metadata": {},
   "source": [
    "# TODO and BUGS moved to Github Issues\n",
    "\n",
    "https://github.com/eristoddle/KryptoBot/issues"
   ]
  },
  {
   "cell_type": "markdown",
   "metadata": {},
   "source": [
    "# Notes\n",
    "\n",
    "- https://github.com/kylejusticemagnuson/pyti/tree/master/pyti\n",
    "- https://github.com/mrjbq7/ta-lib\n",
    "- https://cryptotrader.org/talib\n",
    "- https://github.com/mrjbq7/ta-lib/issues/17"
   ]
  },
  {
   "cell_type": "code",
   "execution_count": null,
   "metadata": {},
   "outputs": [],
   "source": []
  }
 ],
 "metadata": {
  "kernelspec": {
   "display_name": "Python 3",
   "language": "python",
   "name": "python3"
  },
  "language_info": {
   "codemirror_mode": {
    "name": "ipython",
    "version": 3
   },
   "file_extension": ".py",
   "mimetype": "text/x-python",
   "name": "python",
   "nbconvert_exporter": "python",
   "pygments_lexer": "ipython3",
   "version": "3.6.4"
  }
 },
 "nbformat": 4,
 "nbformat_minor": 2
}
