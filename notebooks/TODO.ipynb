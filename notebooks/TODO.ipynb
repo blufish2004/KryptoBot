{
 "cells": [
  {
   "cell_type": "markdown",
   "metadata": {},
   "source": [
    "# TODO\n",
    "\n",
    "- Work on loading and syncing running algos\n",
    "- Work on signals and distributed human intervention\n",
    "- Work on buy and start for reacting to signals\n",
    "- Work on exchange based harvester signals\n",
    "- Work on backtesting\n",
    "- Normalize candles that are realtime based, i.e. round to the next nearest fraction of an hour\n",
    "- Need to add drawdown and slippage to stats and profits\n",
    "- Turn multi-period pyti algos into signals\n",
    "- Use stacks of indicators for reinforcement learning features\n",
    "- Plug in tsfresh for more feature experiments\n",
    "- Handle nans and errors in indicators"
   ]
  },
  {
   "cell_type": "markdown",
   "metadata": {},
   "source": [
    "# Bugs\n",
    "\n",
    "- 1m candles throw list index error\n",
    "- capital_base gets ignored if less than purchase cost\n",
    "- default candles from places like bitfinex start at the first point in history therefore need a start, end range\n",
    "- Candle already contained in DB, retrying...\n",
    "- When going from simulation to live: <lambda> threw error: float division by zero, may just be a intemittent occurence during run or with certain exchanges"
   ]
  },
  {
   "cell_type": "markdown",
   "metadata": {},
   "source": [
    "# Notes\n",
    "\n",
    "- https://github.com/kylejusticemagnuson/pyti/tree/master/pyti\n",
    "- https://github.com/mrjbq7/ta-lib\n",
    "- https://cryptotrader.org/talib\n",
    "- https://github.com/mrjbq7/ta-lib/issues/17"
   ]
  },
  {
   "cell_type": "markdown",
   "metadata": {},
   "source": [
    "# Tests\n",
    "\n",
    "- dual moving xmr-btc bittex 5m 3-15"
   ]
  },
  {
   "cell_type": "code",
   "execution_count": null,
   "metadata": {},
   "outputs": [],
   "source": []
  }
 ],
 "metadata": {
  "kernelspec": {
   "display_name": "Python 3",
   "language": "python",
   "name": "python3"
  },
  "language_info": {
   "codemirror_mode": {
    "name": "ipython",
    "version": 3
   },
   "file_extension": ".py",
   "mimetype": "text/x-python",
   "name": "python",
   "nbconvert_exporter": "python",
   "pygments_lexer": "ipython3",
   "version": "3.6.4"
  }
 },
 "nbformat": 4,
 "nbformat_minor": 2
}
