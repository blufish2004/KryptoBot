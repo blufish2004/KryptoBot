{
 "cells": [
  {
   "cell_type": "markdown",
   "metadata": {},
   "source": [
    "# TODO and BUGS moved to Github Issues\n",
    "\n",
    "https://github.com/eristoddle/KryptoBot/issues"
   ]
  },
  {
   "cell_type": "markdown",
   "metadata": {},
   "source": [
    "# Notes\n",
    "\n",
    "- https://github.com/kylejusticemagnuson/pyti/tree/master/pyti\n",
    "- https://github.com/mrjbq7/ta-lib\n",
    "- https://cryptotrader.org/talib\n",
    "- https://github.com/mrjbq7/ta-lib/issues/17"
   ]
  },
  {
   "cell_type": "markdown",
   "metadata": {},
   "source": [
    "# Tests\n",
    "\n",
    "- dual moving xmr-btc bittex 5m 12-84\n",
    "- dual moving zec-btc bittex 5m 12-84\n",
    "- ETH/BTC bittrex macd 13-6-4: 0.4% profit in 7 days, 100 btc, price range 0.005 btc, slightly bear/sideways"
   ]
  },
  {
   "cell_type": "code",
   "execution_count": null,
   "metadata": {},
   "outputs": [],
   "source": []
  }
 ],
 "metadata": {
  "kernelspec": {
   "display_name": "Python 3",
   "language": "python",
   "name": "python3"
  },
  "language_info": {
   "codemirror_mode": {
    "name": "ipython",
    "version": 3
   },
   "file_extension": ".py",
   "mimetype": "text/x-python",
   "name": "python",
   "nbconvert_exporter": "python",
   "pygments_lexer": "ipython3",
   "version": "3.6.4"
  }
 },
 "nbformat": 4,
 "nbformat_minor": 2
}
