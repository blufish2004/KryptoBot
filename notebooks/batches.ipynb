{
 "cells": [
  {
   "cell_type": "code",
   "execution_count": null,
   "metadata": {},
   "outputs": [],
   "source": [
    "from os import getcwd\n",
    "from kryptobot.portfolio.manager import Manager\n",
    "\n",
    "config = getcwd() + '/config.json'\n",
    "manager = Manager(config=config)\n",
    "%matplotlib inline\n",
    "\n",
    "params = {\n",
    "    'batch': 'parameter_tester',\n",
    "    'params': {\n",
    "        'strategy': 'macd',\n",
    "        'exchange': 'bittrex',\n",
    "        'pair': 'XRP/BTC',\n",
    "        'interval': '5m',\n",
    "        'params': {\n",
    "            'long_window': 13,\n",
    "            'short_window': 6,\n",
    "            'signal_window': 4,\n",
    "        }\n",
    "    }\n",
    "}\n",
    "\n",
    "batch_id = manager.run_batch(params)\n",
    "print('batch_id', batch_id)"
   ]
  }
 ],
 "metadata": {
  "kernelspec": {
   "display_name": "Python 3",
   "language": "python",
   "name": "python3"
  },
  "language_info": {
   "codemirror_mode": {
    "name": "ipython",
    "version": 3
   },
   "file_extension": ".py",
   "mimetype": "text/x-python",
   "name": "python",
   "nbconvert_exporter": "python",
   "pygments_lexer": "ipython3",
   "version": "3.6.4"
  }
 },
 "nbformat": 4,
 "nbformat_minor": 2
}
