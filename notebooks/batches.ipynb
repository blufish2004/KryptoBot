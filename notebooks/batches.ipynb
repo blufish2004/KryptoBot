{
 "cells": [
  {
   "cell_type": "markdown",
   "metadata": {},
   "source": [
    "## Notes\n",
    "\n",
    "Still working on the way to generate the parameters for the generated strategies. Planning on adjusting the shape of the params as I go."
   ]
  },
  {
   "cell_type": "code",
   "execution_count": 9,
   "metadata": {},
   "outputs": [
    {
     "name": "stdout",
     "output_type": "stream",
     "text": [
      "batch_id {'batch_id': 1}\n"
     ]
    }
   ],
   "source": [
    "from os import getcwd\n",
    "from kryptobot.portfolio.manager import Manager\n",
    "\n",
    "config = getcwd() + '/config.json'\n",
    "manager = Manager(config=config)\n",
    "%matplotlib inline\n",
    "\n",
    "params = {\n",
    "    'batch': 'parameter_tester',\n",
    "    'params': {\n",
    "        'strategy': 'macd',\n",
    "        'exchange': 'bittrex',\n",
    "        'pair': 'XRP/BTC',\n",
    "        'interval': '5m',\n",
    "        'params': {\n",
    "            'long_window': [260, 13],\n",
    "            'short_window': [120, 6],\n",
    "            'signal_window': [90, 4],\n",
    "            'scheme': {\n",
    "                'relation': 'ratio',\n",
    "                'param_type': 'integer',\n",
    "                'step': 1\n",
    "            }\n",
    "        }\n",
    "    }\n",
    "}\n",
    "\n",
    "batch_id = manager.run_batch(params)\n",
    "print('batch_id', batch_id)"
   ]
  },
  {
   "cell_type": "code",
   "execution_count": null,
   "metadata": {},
   "outputs": [],
   "source": []
  }
 ],
 "metadata": {
  "kernelspec": {
   "display_name": "Python 3",
   "language": "python",
   "name": "python3"
  },
  "language_info": {
   "codemirror_mode": {
    "name": "ipython",
    "version": 3
   },
   "file_extension": ".py",
   "mimetype": "text/x-python",
   "name": "python",
   "nbconvert_exporter": "python",
   "pygments_lexer": "ipython3",
   "version": "3.6.4"
  }
 },
 "nbformat": 4,
 "nbformat_minor": 2
}
