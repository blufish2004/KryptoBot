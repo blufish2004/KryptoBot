{
 "cells": [
  {
   "cell_type": "code",
   "execution_count": null,
   "metadata": {},
   "outputs": [],
   "source": [
    "from kryptobot.bot import Bot\n",
    "from kryptobot.strategies.poc_strategy import PocStrategy\n",
    "\n",
    "class MultiBot(Bot):\n",
    "    \n",
    "    strategies = []\n",
    "    \n",
    "    def __init__(self, strategies, strategy=None, config=None):\n",
    "        super().__init__(strategy, config)\n",
    "        self.strategies = strategies\n",
    "        \n",
    "    def start_strategy(self):\n",
    "        for st in self.strategies:\n",
    "            st.add_session(self.session)\n",
    "            st.add_keys(self.config['apis'])\n",
    "            st.run_simulation()\n",
    "            st.start()"
   ]
  },
  {
   "cell_type": "code",
   "execution_count": null,
   "metadata": {},
   "outputs": [
    {
     "name": "stdout",
     "output_type": "stream",
     "text": [
      "5m tick\n",
      "Getting latest candleGetting latest candle\n",
      "\n",
      "Sent message to cryptopiaETH/BTC5mUpdating strategy\n",
      "Strategy 1: Received new candle\n",
      "Strategy 1: GETTING SMA CROSSOVER SIGNAL\n",
      "Strategy 1: SMA: 0.082982\n",
      "Strategy 1: FMA: 0.082728\n",
      "Strategy 1: VOL Change: 66.3%\n",
      "Strategy 1: 1 long positions open\n",
      "Strategy 1: Simulation BTC balance: 9.916652\n",
      "\n",
      "Sent message to bittrexETH/BTC5m\n",
      "Updating strategy\n",
      "Strategy 2: Received new candle\n",
      "Strategy 2: GETTING SMA CROSSOVER SIGNAL\n",
      "Strategy 2: SMA: 0.08294\n",
      "Strategy 2: FMA: 0.082837\n",
      "Strategy 2: VOL Change: -96.42%\n",
      "Strategy 2: 1 long positions open\n",
      "Strategy 2: Simulation BTC balance: 9.83259634\n",
      "5m tick\n",
      "Getting latest candle\n",
      "Getting latest candle\n",
      "Sent message to bittrexETH/BTC5m\n",
      "Updating strategy\n",
      "Strategy 2: Received new candle\n",
      "Strategy 2: GETTING SMA CROSSOVER SIGNAL\n",
      "Strategy 2: SMA: 0.082942\n",
      "Strategy 2: FMA: 0.082855\n",
      "Strategy 2: VOL Change: 5541.19%\n",
      "Strategy 2: 1 long positions open\n",
      "Strategy 2: Simulation BTC balance: 9.83259634\n",
      "Sent message to cryptopiaETH/BTC5mUpdating strategy\n",
      "\n",
      "Strategy 1: Received new candle\n",
      "Strategy 1: GETTING SMA CROSSOVER SIGNAL\n",
      "Strategy 1: SMA: 0.082979\n",
      "Strategy 1: FMA: 0.082701\n",
      "Strategy 1: VOL Change: -76.78%\n",
      "Strategy 1: 1 long positions open\n",
      "Strategy 1: Simulation BTC balance: 9.916652\n",
      "5m tick\n",
      "Getting latest candle\n",
      "Getting latest candle\n",
      "Sent message to bittrexETH/BTC5m\n",
      "Updating strategy\n",
      "Strategy 2: Received new candle\n",
      "Strategy 2: GETTING SMA CROSSOVER SIGNAL\n",
      "Strategy 2: SMA: 0.082942\n",
      "Strategy 2: FMA: 0.08286\n",
      "Strategy 2: VOL Change: -90.39%\n",
      "Strategy 2: 1 long positions open\n",
      "Strategy 2: Simulation BTC balance: 9.83259634\n",
      "Sent message to cryptopiaETH/BTC5m\n",
      "Updating strategy\n",
      "Strategy 1: Received new candle\n",
      "Strategy 1: GETTING SMA CROSSOVER SIGNAL\n",
      "Strategy 1: SMA: 0.082974\n",
      "Strategy 1: FMA: 0.082687\n",
      "Strategy 1: VOL Change: -96.46%\n",
      "Strategy 1: 1 long positions open\n",
      "Strategy 1: Simulation BTC balance: 9.916652\n"
     ]
    }
   ],
   "source": [
    "strategies = [\n",
    "    PocStrategy(\"5m\", 'cryptopia', 'ETH', 'BTC', True, 12, 96, sim_balance=10),\n",
    "    PocStrategy(\"5m\", 'bittrex', 'ETH', 'BTC', True, 12, 96, sim_balance=10)\n",
    "]\n",
    "\n",
    "bot = MultiBot(strategies)\n",
    "bot.start()"
   ]
  },
  {
   "cell_type": "code",
   "execution_count": null,
   "metadata": {},
   "outputs": [],
   "source": []
  }
 ],
 "metadata": {
  "kernelspec": {
   "display_name": "Python 3",
   "language": "python",
   "name": "python3"
  },
  "language_info": {
   "codemirror_mode": {
    "name": "ipython",
    "version": 3
   },
   "file_extension": ".py",
   "mimetype": "text/x-python",
   "name": "python",
   "nbconvert_exporter": "python",
   "pygments_lexer": "ipython3",
   "version": "3.6.4"
  }
 },
 "nbformat": 4,
 "nbformat_minor": 2
}
