{
 "cells": [
  {
   "cell_type": "code",
   "execution_count": 1,
   "metadata": {},
   "outputs": [],
   "source": [
    "from os import getcwd\n",
    "from kryptobot.portfolio.manager import Manager\n",
    "# from kryptobot.harvesters.arbitrage_harvester import ArbitrageHarvester\n",
    "\n",
    "# config = getcwd() + '/config.json'\n",
    "config = {\n",
    "        \"db\": {\n",
    "            \"engine\": \"sqlite\",\n",
    "            \"name\": \"core.db\",\n",
    "            \"username\": \"\",\n",
    "            \"password\": \"\",\n",
    "            \"host\": \"\"\n",
    "        },\n",
    "        \"apis\": {\n",
    "            \"cryptopia\": {\n",
    "                \"key\": \"key\",\n",
    "                \"secret\": \"secret\"\n",
    "            },\n",
    "            \"bittrex\": {\n",
    "                \"key\": \"key\",\n",
    "                \"secret\": \"secret\"\n",
    "            },\n",
    "            \"hitbtc\": {\n",
    "                \"key\": \"key\",\n",
    "                \"secret\": \"secret\"\n",
    "            },\n",
    "            \"binance\": {\n",
    "                \"key\": \"key\",\n",
    "                \"secret\": \"secret\"\n",
    "            }\n",
    "        },\n",
    "        \"portfolio\": {\n",
    "            \"name\": \"default\"\n",
    "        }\n",
    "    }\n",
    "\n",
    "manager = Manager(config=config)\n",
    "\n",
    "# arbitrage = manager.exchanges.get_arbitrage_prices('BTC', 5)\n",
    "# print(arbitrage)\n",
    "# markets = manager.exchanges.get_pair_markets('ETH/BTC')\n",
    "# print(markets)\n",
    "\n",
    "params = {\n",
    "    'harvester': 'ArbitrageHarvester',\n",
    "    'interval': 60,\n",
    "    'is_simulated': True,\n",
    "    'base_currency': 'BTC',\n",
    "    'threshold_percentage': 10\n",
    "}\n",
    "manager.run_harvester(params)"
   ]
  },
  {
   "cell_type": "code",
   "execution_count": null,
   "metadata": {},
   "outputs": [],
   "source": []
  },
  {
   "cell_type": "code",
   "execution_count": null,
   "metadata": {},
   "outputs": [],
   "source": []
  }
 ],
 "metadata": {
  "kernelspec": {
   "display_name": "Python 3",
   "language": "python",
   "name": "python3"
  },
  "language_info": {
   "codemirror_mode": {
    "name": "ipython",
    "version": 3
   },
   "file_extension": ".py",
   "mimetype": "text/x-python",
   "name": "python",
   "nbconvert_exporter": "python",
   "pygments_lexer": "ipython3",
   "version": "3.6.4"
  }
 },
 "nbformat": 4,
 "nbformat_minor": 2
}
