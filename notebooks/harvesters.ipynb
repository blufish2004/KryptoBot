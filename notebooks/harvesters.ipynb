{
 "cells": [
  {
   "cell_type": "code",
   "execution_count": 1,
   "metadata": {},
   "outputs": [
    {
     "name": "stdout",
     "output_type": "stream",
     "text": [
      "{'cryptopia': {'bid': 2.812e-05, 'ask': 2.763e-05, 'spread': -4.89999999999997e-07, 'volume': 254630.37450901}, 'bittrex': {'bid': 2.795e-05, 'ask': 2.787e-05, 'spread': -7.999999999999923e-08, 'volume': 47463092.03172005}, 'hitbtc': {'bid': 2.799e-05, 'ask': 2.78e-05, 'spread': -1.8999999999999987e-07, 'volume': 1670100.0}, 'binance': {'bid': 2.793e-05, 'ask': 2.79e-05, 'spread': -2.999999999999802e-08, 'volume': 247890742.0}}\n"
     ]
    }
   ],
   "source": [
    "from os import getcwd\n",
    "from kryptobot.portfolio.manager import Manager\n",
    "# from kryptobot.harvesters.cmc_new_coin_harvester import CmcNewCoinHarvester\n",
    "\n",
    "config = getcwd() + '/config.json'\n",
    "manager = Manager(config=config)\n",
    "\n",
    "manager.load_markets()\n",
    "# symbols = manager.get_pair_matrix()\n",
    "# print(symbols)\n",
    "# arbitrage = manager.get_possible_arbitrage()\n",
    "# print(arbitrage)\n",
    "markets = manager.get_pair_markets('ADA/BTC')\n",
    "print(markets)"
   ]
  },
  {
   "cell_type": "code",
   "execution_count": null,
   "metadata": {},
   "outputs": [],
   "source": []
  }
 ],
 "metadata": {
  "kernelspec": {
   "display_name": "Python 3",
   "language": "python",
   "name": "python3"
  },
  "language_info": {
   "codemirror_mode": {
    "name": "ipython",
    "version": 3
   },
   "file_extension": ".py",
   "mimetype": "text/x-python",
   "name": "python",
   "nbconvert_exporter": "python",
   "pygments_lexer": "ipython3",
   "version": "3.6.4"
  }
 },
 "nbformat": 4,
 "nbformat_minor": 2
}
