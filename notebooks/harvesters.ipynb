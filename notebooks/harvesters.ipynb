{
 "cells": [
  {
   "cell_type": "code",
   "execution_count": 5,
   "metadata": {},
   "outputs": [
    {
     "data": {
      "text/plain": [
       "{'harvester_id': 2}"
      ]
     },
     "execution_count": 5,
     "metadata": {},
     "output_type": "execute_result"
    }
   ],
   "source": [
    "from os import getcwd\n",
    "from kryptobot.portfolio.manager import Manager\n",
    "\n",
    "config = getcwd() + '/config.json'\n",
    "manager = Manager(config=config)\n",
    "\n",
    "# arbitrage = manager.exchanges.get_arbitrage_prices('BTC', 5)\n",
    "# print(arbitrage)\n",
    "# markets = manager.exchanges.get_pair_markets('ETH/BTC')\n",
    "# print(markets)\n",
    "\n",
    "params = {\n",
    "    'harvester': 'arbitrage_harvester',\n",
    "    'interval': 120,\n",
    "    'is_simulated': True,\n",
    "    'base_currency': 'BTC',\n",
    "    'threshold_percentage': 10\n",
    "}\n",
    "\n",
    "# params = {\n",
    "#     'harvester': 'macd_parameter_harvester',\n",
    "#     'exchange': 'bittrex',\n",
    "#     'pair': 'ETH/BTC',\n",
    "#     'params': {\n",
    "        \n",
    "#     }\n",
    "# }\n",
    "\n",
    "# params = {\n",
    "#     'harvester': 'cmc_new_coin_harvester',\n",
    "#     'interval': 120,\n",
    "#     'is_simulated': True,\n",
    "#     'base_currency': 'BTC'\n",
    "# }\n",
    "\n",
    "manager.run_harvester(params)"
   ]
  },
  {
   "cell_type": "code",
   "execution_count": null,
   "metadata": {},
   "outputs": [],
   "source": []
  },
  {
   "cell_type": "code",
   "execution_count": null,
   "metadata": {},
   "outputs": [],
   "source": []
  }
 ],
 "metadata": {
  "kernelspec": {
   "display_name": "Python 3",
   "language": "python",
   "name": "python3"
  },
  "language_info": {
   "codemirror_mode": {
    "name": "ipython",
    "version": 3
   },
   "file_extension": ".py",
   "mimetype": "text/x-python",
   "name": "python",
   "nbconvert_exporter": "python",
   "pygments_lexer": "ipython3",
   "version": "3.6.4"
  }
 },
 "nbformat": 4,
 "nbformat_minor": 2
}
