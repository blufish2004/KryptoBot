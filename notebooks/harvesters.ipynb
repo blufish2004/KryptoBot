{
 "cells": [
  {
   "cell_type": "code",
   "execution_count": 1,
   "metadata": {},
   "outputs": [
    {
     "name": "stdout",
     "output_type": "stream",
     "text": [
      "Foreign key associated with column 'harvesters.porfolio_id' could not find table 'portfolio' with which to generate a foreign key to target column 'id'\n",
      "{'markets': {'cryptopia': {'bid': 0.0763, 'ask': 0.07628, 'spread': -2.0000000000006124e-05, 'volume': 922.06587762}, 'bittrex': {'bid': 0.0763905, 'ask': 0.07622747, 'spread': -0.00016302999999999457, 'volume': 10250.55106286}, 'hitbtc': {'bid': 0.076403, 'ask': 0.076386, 'spread': -1.7000000000003124e-05, 'volume': 46100.147}, 'binance': {'bid': 0.076481, 'ask': 0.076436, 'spread': -4.499999999998949e-05, 'volume': 123895.419}}, 'arbitrage': {'highest_bid': 0.076481, 'highest_bid_exchange': 'binance', 'lowest_ask': 0.076436, 'lowest_ask_exchange': 'binance', 'spread': 4.499999999998949e-05, 'percentage': 0.05887278245851364}}\n"
     ]
    }
   ],
   "source": [
    "from os import getcwd\n",
    "from kryptobot.portfolio.manager import Manager\n",
    "# from kryptobot.harvesters.arbitrage_harvester import ArbitrageHarvester\n",
    "\n",
    "# config = getcwd() + '/config.json'\n",
    "config = {\n",
    "        \"db\": {\n",
    "            \"engine\": \"sqlite\",\n",
    "            \"name\": \"core.db\",\n",
    "            \"username\": \"\",\n",
    "            \"password\": \"\",\n",
    "            \"host\": \"\"\n",
    "        },\n",
    "        \"apis\": {\n",
    "            \"cryptopia\": {\n",
    "                \"key\": \"key\",\n",
    "                \"secret\": \"secret\"\n",
    "            },\n",
    "            \"bittrex\": {\n",
    "                \"key\": \"key\",\n",
    "                \"secret\": \"secret\"\n",
    "            },\n",
    "            \"hitbtc\": {\n",
    "                \"key\": \"key\",\n",
    "                \"secret\": \"secret\"\n",
    "            },\n",
    "            \"binance\": {\n",
    "                \"key\": \"key\",\n",
    "                \"secret\": \"secret\"\n",
    "            }\n",
    "        },\n",
    "        \"portfolio\": {\n",
    "            \"name\": \"default\"\n",
    "        }\n",
    "    }\n",
    "manager = Manager(config=config)\n",
    "\n",
    "# arbitrage = manager.exchanges.get_arbitrage_prices('BTC', 5)\n",
    "# print(arbitrage)\n",
    "markets = manager.exchanges.get_pair_markets('ETH/BTC')\n",
    "print(markets)\n",
    "\n",
    "# harvester = 'ArbitrageHarvester'\n",
    "# params = {\n",
    "#     'interval': '1h',\n",
    "#     'is_simulated': True\n",
    "# }\n",
    "# manager.run_harvester(harvester, params)"
   ]
  },
  {
   "cell_type": "code",
   "execution_count": null,
   "metadata": {},
   "outputs": [],
   "source": []
  }
 ],
 "metadata": {
  "kernelspec": {
   "display_name": "Python 3",
   "language": "python",
   "name": "python3"
  },
  "language_info": {
   "codemirror_mode": {
    "name": "ipython",
    "version": 3
   },
   "file_extension": ".py",
   "mimetype": "text/x-python",
   "name": "python",
   "nbconvert_exporter": "python",
   "pygments_lexer": "ipython3",
   "version": "3.6.4"
  }
 },
 "nbformat": 4,
 "nbformat_minor": 2
}
