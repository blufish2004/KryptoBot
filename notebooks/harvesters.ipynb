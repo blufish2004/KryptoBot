{
 "cells": [
  {
   "cell_type": "code",
   "execution_count": 1,
   "metadata": {},
   "outputs": [
    {
     "name": "stdout",
     "output_type": "stream",
     "text": [
      "{'pair_markets': {'cryptopia': {'bid': 0.07562166, 'ask': 0.07523366, 'spread': -0.00038799999999999946, 'volume': 1001.26145994}, 'bittrex': {'bid': 0.07579998, 'ask': 0.07553174, 'spread': -0.0002682400000000029, 'volume': 9456.08345307}, 'hitbtc': {'bid': 0.075647, 'ask': 0.075619, 'spread': -2.8000000000000247e-05, 'volume': 47805.596}, 'binance': {'bid': 0.075651, 'ask': 0.07565, 'spread': -1.000000000001e-06, 'volume': 122050.395}}, 'arbitrage': {'highest_bid': 0.07579998, 'highest_bid_exchange': 'bittrex', 'lowest_ask': 0.07565, 'lowest_ask_exchange': 'binance', 'spread': 0.00014998000000000788}}\n"
     ]
    }
   ],
   "source": [
    "from os import getcwd\n",
    "from kryptobot.portfolio.manager import Manager\n",
    "# from kryptobot.harvesters.cmc_new_coin_harvester import CmcNewCoinHarvester\n",
    "\n",
    "# config = getcwd() + '/config.json'\n",
    "config = {\n",
    "        \"db\": {\n",
    "            \"engine\": \"sqlite\",\n",
    "            \"name\": \"core.db\",\n",
    "            \"username\": \"\",\n",
    "            \"password\": \"\",\n",
    "            \"host\": \"\"\n",
    "        },\n",
    "        \"apis\": {\n",
    "            \"cryptopia\": {\n",
    "                \"key\": \"key\",\n",
    "                \"secret\": \"secret\"\n",
    "            },\n",
    "            \"bittrex\": {\n",
    "                \"key\": \"key\",\n",
    "                \"secret\": \"secret\"\n",
    "            },\n",
    "            \"hitbtc\": {\n",
    "                \"key\": \"key\",\n",
    "                \"secret\": \"secret\"\n",
    "            },\n",
    "            \"binance\": {\n",
    "                \"key\": \"key\",\n",
    "                \"secret\": \"secret\"\n",
    "            }\n",
    "        }\n",
    "    }\n",
    "manager = Manager(config=config)\n",
    "\n",
    "# symbols = manager.get_pair_matrix()\n",
    "# print(symbols)\n",
    "# arbitrage = manager.get_possible_arbitrage()\n",
    "# arbitrage = manager.get_arbitrage_prices()\n",
    "# print(arbitrage)\n",
    "markets = manager.get_pair_markets('ETH/BTC')\n",
    "print(markets)"
   ]
  },
  {
   "cell_type": "code",
   "execution_count": null,
   "metadata": {},
   "outputs": [],
   "source": []
  }
 ],
 "metadata": {
  "kernelspec": {
   "display_name": "Python 3",
   "language": "python",
   "name": "python3"
  },
  "language_info": {
   "codemirror_mode": {
    "name": "ipython",
    "version": 3
   },
   "file_extension": ".py",
   "mimetype": "text/x-python",
   "name": "python",
   "nbconvert_exporter": "python",
   "pygments_lexer": "ipython3",
   "version": "3.6.4"
  }
 },
 "nbformat": 4,
 "nbformat_minor": 2
}
