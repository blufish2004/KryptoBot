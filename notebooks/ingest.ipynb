{
 "cells": [
  {
   "cell_type": "code",
   "execution_count": 1,
   "metadata": {},
   "outputs": [
    {
     "name": "stdout",
     "output_type": "stream",
     "text": [
      "None\n"
     ]
    }
   ],
   "source": [
    "from catalyst.exchange.exchange_bundle import ExchangeBundle\n",
    "\n",
    "exchange_name = 'binance'\n",
    "data_frequency = 'daily'\n",
    "include_symbols = 'ltc_btc'\n",
    "\n",
    "exchange_bundle = ExchangeBundle(exchange_name)\n",
    "ingest = exchange_bundle.ingest(\n",
    "    data_frequency=data_frequency,\n",
    "    include_symbols=include_symbols,\n",
    "#     exclude_symbols=params['exclude_symbols'],\n",
    "#     start=start,\n",
    "#     end=end,\n",
    "    show_progress=True,\n",
    "#     show_breakdown=params['show_breakdown'],\n",
    "#     show_report=params['show_report'],\n",
    "#     csv=params['csv']\n",
    ")\n",
    "print(ingest)\n",
    "\n",
    "# catalyst ingest -b binance -c"
   ]
  },
  {
   "cell_type": "code",
   "execution_count": 15,
   "metadata": {},
   "outputs": [
    {
     "data": {
      "text/html": [
       "<div>\n",
       "<table border=\"1\" class=\"dataframe\">\n",
       "  <thead>\n",
       "    <tr style=\"text-align: right;\">\n",
       "      <th></th>\n",
       "      <th>0</th>\n",
       "      <th>1</th>\n",
       "      <th>2</th>\n",
       "      <th>3</th>\n",
       "      <th>4</th>\n",
       "      <th>5</th>\n",
       "    </tr>\n",
       "  </thead>\n",
       "  <tbody>\n",
       "    <tr>\n",
       "      <th>338</th>\n",
       "      <td>1529193600000</td>\n",
       "      <td>0.014885</td>\n",
       "      <td>0.014983</td>\n",
       "      <td>0.014684</td>\n",
       "      <td>0.014721</td>\n",
       "      <td>128780.44</td>\n",
       "    </tr>\n",
       "    <tr>\n",
       "      <th>339</th>\n",
       "      <td>1529280000000</td>\n",
       "      <td>0.014721</td>\n",
       "      <td>0.014855</td>\n",
       "      <td>0.014489</td>\n",
       "      <td>0.014722</td>\n",
       "      <td>141781.73</td>\n",
       "    </tr>\n",
       "    <tr>\n",
       "      <th>340</th>\n",
       "      <td>1529366400000</td>\n",
       "      <td>0.014720</td>\n",
       "      <td>0.015040</td>\n",
       "      <td>0.014516</td>\n",
       "      <td>0.014631</td>\n",
       "      <td>126201.45</td>\n",
       "    </tr>\n",
       "    <tr>\n",
       "      <th>341</th>\n",
       "      <td>1529452800000</td>\n",
       "      <td>0.014636</td>\n",
       "      <td>0.014750</td>\n",
       "      <td>0.014427</td>\n",
       "      <td>0.014460</td>\n",
       "      <td>123539.56</td>\n",
       "    </tr>\n",
       "    <tr>\n",
       "      <th>342</th>\n",
       "      <td>1529539200000</td>\n",
       "      <td>0.014465</td>\n",
       "      <td>0.014522</td>\n",
       "      <td>0.014442</td>\n",
       "      <td>0.014469</td>\n",
       "      <td>8498.55</td>\n",
       "    </tr>\n",
       "  </tbody>\n",
       "</table>\n",
       "</div>"
      ],
      "text/plain": [
       "                 0         1         2         3         4          5\n",
       "338  1529193600000  0.014885  0.014983  0.014684  0.014721  128780.44\n",
       "339  1529280000000  0.014721  0.014855  0.014489  0.014722  141781.73\n",
       "340  1529366400000  0.014720  0.015040  0.014516  0.014631  126201.45\n",
       "341  1529452800000  0.014636  0.014750  0.014427  0.014460  123539.56\n",
       "342  1529539200000  0.014465  0.014522  0.014442  0.014469    8498.55"
      ]
     },
     "execution_count": 15,
     "metadata": {},
     "output_type": "execute_result"
    }
   ],
   "source": [
    "import ccxt\n",
    "import json\n",
    "import pandas as pd\n",
    "\n",
    "symbol = 'ltc_btc'\n",
    "ccxt_symbol = symbol.replace('_', '/').upper()\n",
    "\n",
    "exchange = ccxt.binance()\n",
    "ohlcv = json.dumps(exchange.fetch_ohlcv(ccxt_symbol, '1d'))\n",
    "# print(ohlcv)\n",
    "raw = pd.read_json(ohlcv)\n",
    "raw.tail()"
   ]
  },
  {
   "cell_type": "code",
   "execution_count": null,
   "metadata": {},
   "outputs": [],
   "source": []
  }
 ],
 "metadata": {
  "kernelspec": {
   "display_name": "Python 3",
   "language": "python",
   "name": "python3"
  },
  "language_info": {
   "codemirror_mode": {
    "name": "ipython",
    "version": 3
   },
   "file_extension": ".py",
   "mimetype": "text/x-python",
   "name": "python",
   "nbconvert_exporter": "python",
   "pygments_lexer": "ipython3",
   "version": "3.6.4"
  }
 },
 "nbformat": 4,
 "nbformat_minor": 2
}
