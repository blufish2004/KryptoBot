{
 "cells": [
  {
   "cell_type": "code",
   "execution_count": 8,
   "metadata": {},
   "outputs": [],
   "source": [
    "from threading import Thread\n",
    "from queue import Queue\n",
    "from kryptobot.bot import Bot\n",
    "from kryptobot import ticker\n",
    "import logging\n",
    "\n",
    "logger = logging.getLogger(__name__)\n",
    "\n",
    "\n",
    "class Listener(Bot):\n",
    "\n",
    "    def __init__(self, strategy=None, config=None, interval='1m'):\n",
    "        super().__init__(strategy, config)\n",
    "        self.interval = interval\n",
    "        ticker.subscribe(self.tick, interval)\n",
    "    \n",
    "    # Extend class and override tick method\n",
    "    def tick(self):\n",
    "        print('ticked')\n",
    "        \n",
    "class QueuedListener(Listener):\n",
    "\n",
    "    def __init__(self, strategy=None, config=None, interval='1m'):\n",
    "        super().__init__(strategy, config, interval)\n",
    "        self.__thread = Thread(target=self.__run)  # create thread for listener\n",
    "        self._jobs = Queue()  # create job queue\n",
    "        self.__running = False\n",
    "        self.__thread.start()\n",
    "\n",
    "    def __run(self):\n",
    "        self.__running = True\n",
    "        while self.__running:\n",
    "            if not self._jobs.empty():\n",
    "                job = self._jobs.get()\n",
    "                try:\n",
    "                    job()\n",
    "                except Exception as e:\n",
    "                    print(e)\n",
    "                    logger.error(job.__name__ + \" threw error:\\n\" + str(e))\n",
    "\n",
    "    # Extend class and override tick method\n",
    "    def tick(self):\n",
    "        self._jobs.put(lambda: self.job())\n",
    "\n",
    "    # Or Extend class and override tick method\n",
    "    def job(self):\n",
    "        print('job tick')\n",
    "\n",
    "    def stop(self):\n",
    "        self.__running = False"
   ]
  },
  {
   "cell_type": "code",
   "execution_count": 9,
   "metadata": {},
   "outputs": [],
   "source": [
    "listener = QueuedListener()"
   ]
  },
  {
   "cell_type": "code",
   "execution_count": null,
   "metadata": {},
   "outputs": [],
   "source": []
  }
 ],
 "metadata": {
  "kernelspec": {
   "display_name": "Python 3",
   "language": "python",
   "name": "python3"
  },
  "language_info": {
   "codemirror_mode": {
    "name": "ipython",
    "version": 3
   },
   "file_extension": ".py",
   "mimetype": "text/x-python",
   "name": "python",
   "nbconvert_exporter": "python",
   "pygments_lexer": "ipython3",
   "version": "3.6.4"
  }
 },
 "nbformat": 4,
 "nbformat_minor": 2
}
