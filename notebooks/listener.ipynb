{
 "cells": [
  {
   "cell_type": "code",
   "execution_count": null,
   "metadata": {},
   "outputs": [],
   "source": [
    "from kryptobot.core import Core\n",
    "from threading import Thread\n",
    "from queue import Queue\n",
    "import logging\n",
    "\n",
    "\n",
    "class Listener(Core):\n",
    "\n",
    "    \n",
    "    def __init__(self, publisher, publisher_params, config=None):\n",
    "        super().__init__(config)\n",
    "        publisher.subscribe(self.tick, **publisher_params)\n",
    "\n",
    "    # Extend class and override tick method\n",
    "    def tick(self):\n",
    "        print('ticked')\n",
    "        \n",
    "\n",
    "class QueuedListener(Listener):\n",
    "\n",
    "    def __init__(self, publisher, publisher_params, config=None):\n",
    "        super().__init__(publisher, publisher_params, config)\n",
    "        self.__thread = Thread(target=self.__run)  # create thread for listener\n",
    "        self._jobs = Queue()  # create job queue\n",
    "        self.__running = False\n",
    "        self.__thread.start()\n",
    "\n",
    "    def __run(self):\n",
    "        self.__running = True\n",
    "        while self.__running:\n",
    "            if not self._jobs.empty():\n",
    "                job = self._jobs.get()\n",
    "                try:\n",
    "                    job()\n",
    "                except Exception as e:\n",
    "                    print(e)\n",
    "                    logger.error(job.__name__ + \" threw error:\\n\" + str(e))\n",
    "\n",
    "    # Extend class and override tick method\n",
    "    def tick(self):\n",
    "        self._jobs.put(lambda: self.job())\n",
    "\n",
    "    # Or Extend class and override job method\n",
    "    def job(self):\n",
    "        print('job tick')\n",
    "\n",
    "    def stop(self):\n",
    "        self.__running = False\n"
   ]
  },
  {
   "cell_type": "code",
   "execution_count": null,
   "metadata": {},
   "outputs": [],
   "source": [
    "from kryptobot import ticker\n",
    "\n",
    "listener = QueuedListener(ticker, {'interval':'15s'})"
   ]
  },
  {
   "cell_type": "code",
   "execution_count": null,
   "metadata": {},
   "outputs": [],
   "source": []
  }
 ],
 "metadata": {
  "kernelspec": {
   "display_name": "Python 3",
   "language": "python",
   "name": "python3"
  },
  "language_info": {
   "codemirror_mode": {
    "name": "ipython",
    "version": 3
   },
   "file_extension": ".py",
   "mimetype": "text/x-python",
   "name": "python",
   "nbconvert_exporter": "python",
   "pygments_lexer": "ipython3",
   "version": "3.6.4"
  }
 },
 "nbformat": 4,
 "nbformat_minor": 2
}
