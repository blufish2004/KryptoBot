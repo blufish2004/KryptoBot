{
 "cells": [
  {
   "cell_type": "markdown",
   "metadata": {},
   "source": [
    "# Trading\n",
    "\n",
    "- https://github.com/kelvinau/crypto-arbitrage : Arbitrage, not pip installable, not many exchanges\n",
    "- https://github.com/ScottFreeLLC/AlphaPy : Machine learning framework for prediction\n",
    "- https://github.com/ssatia/cointreau : LSTM trading model, not pip instalable, use for a workflow example\n",
    "- https://github.com/Endogen/Telegram-Kraken-Bot : Interactive trading bot through Telegram\n",
    "- https://github.com/bmoscon/cryptofeed : Normalizes prices across exchanges but doesn't use ccxt.\n",
    "- https://github.com/samre12/gym-cryptotrading : Uses AI gym and reinforcement learning\n",
    "- https://github.com/meister245/CryptoLunch : Find all arbitrage oppurtunities from coinmarketcap listed exchanges for all coins\n",
    "- https://github.com/owocki/pytrader : Machine learning trading platform\n",
    "\n",
    "\n",
    "## Interesting\n",
    "\n",
    "- https://github.com/gcarq/freqtrade : Telegram trading bot\n",
    "- https://github.com/ccxt/ccxt : Exchange API Library\n",
    "- https://github.com/Denton24646/Titan : Trading Framework but not pip installable. Good wiki on structure: https://github.com/Denton24646/Titan/wiki Scavenge?\n",
    "- https://github.com/CryptoSignal/crypto-signal : Platform for signals, again not pip installable. Uses ccxt, plugs into telegram and others. Scavenge?\n",
    "- https://github.com/ScottFreeLLC/AlphaPy : Machine learning framework for prediction\n",
    "- https://github.com/blue-yonder/tsfresh : Automatic time series feature extraction\n",
    "\n",
    "\n",
    "## Looking for\n",
    "\n",
    "- Speech recognition type graph analysis\n"
   ]
  },
  {
   "cell_type": "code",
   "execution_count": null,
   "metadata": {},
   "outputs": [],
   "source": []
  }
 ],
 "metadata": {
  "kernelspec": {
   "display_name": "Python 3",
   "language": "python",
   "name": "python3"
  },
  "language_info": {
   "codemirror_mode": {
    "name": "ipython",
    "version": 3
   },
   "file_extension": ".py",
   "mimetype": "text/x-python",
   "name": "python",
   "nbconvert_exporter": "python",
   "pygments_lexer": "ipython3",
   "version": "3.6.4"
  }
 },
 "nbformat": 4,
 "nbformat_minor": 2
}
