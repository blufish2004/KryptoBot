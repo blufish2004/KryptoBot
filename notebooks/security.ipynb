{
 "cells": [
  {
   "cell_type": "markdown",
   "metadata": {},
   "source": [
    "# Security and Encryption\n",
    "\n",
    "## Known Issues\n",
    "\n",
    "---\n",
    "\n",
    "If the app is to be multitenant, the api keys of the portfolio must be known to the worker. These cannot be passed through redis unless there is some sort of encryption\n",
    "\n",
    "Possible magic bullet: https://blog.heroku.com/securing-celery\n",
    "\n",
    "But after pip installing, celery breaks unless the environment already has a KOMBU_FERNET_KEY variable\n",
    "\n",
    "So trying this: https://github.com/roverdotcom/kombu-encrypted-serializer\n",
    "\n",
    "---"
   ]
  },
  {
   "cell_type": "code",
   "execution_count": 2,
   "metadata": {},
   "outputs": [],
   "source": [
    "import os\n",
    "from cryptography.fernet import Fernet\n",
    "\n",
    "key = Fernet.generate_key()\n",
    "os.environ['KOMBU_FERNET_KEY'] = str(key)"
   ]
  },
  {
   "cell_type": "code",
   "execution_count": null,
   "metadata": {},
   "outputs": [],
   "source": [
    "import os\n",
    "\n",
    "from celery import Celery\n",
    "from kombu_encrypted_serializer import setup_encrypted_serializer\n",
    "\n",
    "TEST_KEY = 'WgFNqB8eokKER0aFxEmfnK7qyZmGhGmxxOqccW3oZoM='\n",
    "os.environ['KOMBU_ENCRYPTED_SERIALIZER_KEY'] = TEST_KEY\n",
    "\n",
    "serializer_name = setup_encrypted_serializer(serializer='pickle')\n",
    "\n",
    "app = Celery('tasks', broker='redis://', backend='redis://')\n",
    "app.conf.update(\n",
    "    CELERY_TASK_SERIALIZER=serializer_name,\n",
    "    CELERY_RESULT_SERIALIZER=serializer_name,\n",
    "    CELERY_ACCEPT_CONTENT=[serializer_name],\n",
    ")\n",
    "\n",
    "\n",
    "@app.task\n",
    "def add(x, y):\n",
    "    return x + y\n",
    "\n",
    "\n",
    "@app.task\n",
    "def give_it_back(data):\n",
    "    return data"
   ]
  }
 ],
 "metadata": {
  "kernelspec": {
   "display_name": "Python 3",
   "language": "python",
   "name": "python3"
  },
  "language_info": {
   "codemirror_mode": {
    "name": "ipython",
    "version": 3
   },
   "file_extension": ".py",
   "mimetype": "text/x-python",
   "name": "python",
   "nbconvert_exporter": "python",
   "pygments_lexer": "ipython3",
   "version": "3.6.4"
  }
 },
 "nbformat": 4,
 "nbformat_minor": 2
}
