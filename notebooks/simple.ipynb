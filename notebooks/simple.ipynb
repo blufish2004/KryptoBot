{
 "cells": [
  {
   "cell_type": "code",
   "execution_count": null,
   "metadata": {},
   "outputs": [],
   "source": [
    "from kryptobot.bots.bot import Bot\n",
    "from kryptobot.strategies.poc_strategy import PocStrategy\n",
    "# from os import getcwd\n",
    "\n",
    "# config = getcwd() + '/config.json'\n",
    "# strategy = PocStrategy(\"5m\", 'cryptopia', 'ETH', 'BTC', True, 12, 96, sim_balance=10)\n",
    "# strategy = PocStrategy(\"5m\", 'bittrex', 'SYS', 'BTC', True, 12, 96, sim_balance=10)\n",
    "# strategy = PocStrategy(\"5m\", 'binance', 'ETH', 'BTC', True, 12, 96, sim_balance=10)\n",
    "strategy = PocStrategy(\"5m\", 'hitbtc', 'TAU', 'BTC', True, 12, 48, sim_balance=10)\n",
    "\n",
    "# bot = Bot(strategy, config=config)\n",
    "bot = Bot(strategy)\n",
    "bot.start()"
   ]
  }
 ],
 "metadata": {
  "kernelspec": {
   "display_name": "Python 3",
   "language": "python",
   "name": "python3"
  },
  "language_info": {
   "codemirror_mode": {
    "name": "ipython",
    "version": 3
   },
   "file_extension": ".py",
   "mimetype": "text/x-python",
   "name": "python",
   "nbconvert_exporter": "python",
   "pygments_lexer": "ipython3",
   "version": "3.6.4"
  }
 },
 "nbformat": 4,
 "nbformat_minor": 2
}
