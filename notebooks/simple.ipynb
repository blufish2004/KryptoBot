{
 "cells": [
  {
   "cell_type": "code",
   "execution_count": null,
   "metadata": {},
   "outputs": [
    {
     "name": "stdout",
     "output_type": "stream",
     "text": [
      "5m tick\n",
      "Getting latest candle\n",
      "Sent message to binanceETH/BTC5mUpdating strategy\n",
      "Strategy 1: Received new candle\n",
      "Strategy 1: GETTING SMA CROSSOVER SIGNAL\n",
      "Strategy 1: SMA: 0.078132\n",
      "Strategy 1: FMA: 0.078615\n",
      "Strategy 1: VOL Change: -52.29%\n",
      "Strategy 1: 1 long positions open\n",
      "Strategy 1: Simulation BTC balance: 9.916359\n",
      "\n"
     ]
    }
   ],
   "source": [
    "from kryptobot.bot import Bot\n",
    "from kryptobot.strategies.poc_strategy import PocStrategy\n",
    "# from os import getcwd\n",
    "\n",
    "# config = getcwd() + '/config.json'\n",
    "# strategy = PocStrategy(\"5m\", 'cryptopia', 'ETH', 'BTC', True, 12, 96, sim_balance=10)\n",
    "# strategy = PocStrategy(\"5m\", 'bittrex', 'ETH', 'BTC', True, 12, 96, sim_balance=10)\n",
    "strategy = PocStrategy(\"5m\", 'binance', 'ETH', 'BTC', True, 12, 96, sim_balance=10)\n",
    "\n",
    "# bot = Bot(strategy, config=config)\n",
    "bot = Bot(strategy)\n",
    "bot.start()"
   ]
  },
  {
   "cell_type": "code",
   "execution_count": null,
   "metadata": {},
   "outputs": [],
   "source": []
  }
 ],
 "metadata": {
  "kernelspec": {
   "display_name": "Python 3",
   "language": "python",
   "name": "python3"
  },
  "language_info": {
   "codemirror_mode": {
    "name": "ipython",
    "version": 3
   },
   "file_extension": ".py",
   "mimetype": "text/x-python",
   "name": "python",
   "nbconvert_exporter": "python",
   "pygments_lexer": "ipython3",
   "version": "3.6.4"
  }
 },
 "nbformat": 4,
 "nbformat_minor": 2
}
