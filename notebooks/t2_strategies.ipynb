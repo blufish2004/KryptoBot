{
 "cells": [
  {
   "cell_type": "markdown",
   "metadata": {},
   "source": [
    "# Back to refactoring titan algorithms\n",
    "\n",
    "- Work on loading and syncing running algos\n",
    "- Work on signals and distributed human intervention\n",
    "- Work on buy and start for reacting to signals\n",
    "- Work on exchange based harvester signals\n",
    "- Work on backtesting\n",
    "- Normalize candles that are realtime based, i.e. round to the next nearest fraction of an hour\n",
    "- Storing results with more data points like catalyst pickles"
   ]
  },
  {
   "cell_type": "code",
   "execution_count": 3,
   "metadata": {},
   "outputs": [],
   "source": [
    "from os import getcwd\n",
    "from kryptobot.portfolio.manager import Manager\n",
    "\n",
    "config = getcwd() + '/config.json'\n",
    "manager = Manager(config=config)\n",
    "\n",
    "params = {\n",
    "    'strategy': 'dual_simple_moving_average',\n",
    "    'type': 't2',\n",
    "    'default': {\n",
    "        'interval': '1m',\n",
    "        'exchange': 'hitbtc',\n",
    "#         'exchange': 'cryptopia',\n",
    "        'base_currency': 'ETH',\n",
    "        'quote_currency': 'BTC',\n",
    "        'is_simulated': True,\n",
    "#         'start': '2017-06-15',\n",
    "#         'end': '2018-06-15',\n",
    "    },\n",
    "    'limits': {\n",
    "        'capital_base': 1000,\n",
    "        'order_quantity': 100,\n",
    "        'position_limit': 1000,\n",
    "        'profit_target_percentage': 1.1,\n",
    "        'fixed_stoploss_percentage': .95,\n",
    "        'trailing_stoploss_percentage': .90\n",
    "    },\n",
    "    'custom': {\n",
    "        'long_window': 1,\n",
    "        'short_window': 4\n",
    "    },\n",
    "    'portfolio': {\n",
    "        'name': 'default'\n",
    "    }\n",
    "}\n",
    "\n",
    "manager.run_strategy(params)"
   ]
  },
  {
   "cell_type": "code",
   "execution_count": null,
   "metadata": {},
   "outputs": [],
   "source": []
  }
 ],
 "metadata": {
  "kernelspec": {
   "display_name": "Python 3",
   "language": "python",
   "name": "python3"
  },
  "language_info": {
   "codemirror_mode": {
    "name": "ipython",
    "version": 3
   },
   "file_extension": ".py",
   "mimetype": "text/x-python",
   "name": "python",
   "nbconvert_exporter": "python",
   "pygments_lexer": "ipython3",
   "version": "3.6.4"
  }
 },
 "nbformat": 4,
 "nbformat_minor": 2
}
