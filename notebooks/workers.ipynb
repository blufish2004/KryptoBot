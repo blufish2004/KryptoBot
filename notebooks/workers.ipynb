{
 "cells": [
  {
   "cell_type": "code",
   "execution_count": 5,
   "metadata": {},
   "outputs": [
    {
     "name": "stdout",
     "output_type": "stream",
     "text": [
      "(psycopg2.OperationalError) could not translate host name \"timescale\" to address: Name or service not known\n",
      " (Background on this error at: http://sqlalche.me/e/e3q8)\n"
     ]
    },
    {
     "ename": "TypeError",
     "evalue": "run_strategy() missing 1 required positional argument: 'params'",
     "output_type": "error",
     "traceback": [
      "\u001b[0;31m---------------------------------------------------------------------------\u001b[0m",
      "\u001b[0;31mTypeError\u001b[0m                                 Traceback (most recent call last)",
      "\u001b[0;32m<ipython-input-5-4f741bdc5f36>\u001b[0m in \u001b[0;36m<module>\u001b[0;34m()\u001b[0m\n\u001b[1;32m     19\u001b[0m }\n\u001b[1;32m     20\u001b[0m \u001b[0;34m\u001b[0m\u001b[0m\n\u001b[0;32m---> 21\u001b[0;31m \u001b[0mmanager\u001b[0m\u001b[0;34m.\u001b[0m\u001b[0mrun_strategy\u001b[0m\u001b[0;34m(\u001b[0m\u001b[0mparams\u001b[0m\u001b[0;34m)\u001b[0m\u001b[0;34m\u001b[0m\u001b[0m\n\u001b[0m",
      "\u001b[0;31mTypeError\u001b[0m: run_strategy() missing 1 required positional argument: 'params'"
     ]
    }
   ],
   "source": [
    "from os import getcwd\n",
    "from kryptobot.portfolio.manager import Manager\n",
    "\n",
    "config = getcwd() + '/config.json'\n",
    "\n",
    "# manager = Manager()\n",
    "manager = Manager(config=config)\n",
    "\n",
    "params = {\n",
    "    'strategy': 'PocStrategy',\n",
    "    'interval': '5m',\n",
    "    'exchange': 'bittrex',\n",
    "    'base_currency': 'NMR',\n",
    "    'quote_currency': 'BTC',\n",
    "    'is_simulated': True,\n",
    "    'fma_periods': 288,\n",
    "    'sma_periods': 864,\n",
    "    'sim_balance': 10\n",
    "}\n",
    "\n",
    "manager.run_strategy(params)"
   ]
  },
  {
   "cell_type": "code",
   "execution_count": null,
   "metadata": {},
   "outputs": [],
   "source": []
  }
 ],
 "metadata": {
  "kernelspec": {
   "display_name": "Python 3",
   "language": "python",
   "name": "python3"
  },
  "language_info": {
   "codemirror_mode": {
    "name": "ipython",
    "version": 3
   },
   "file_extension": ".py",
   "mimetype": "text/x-python",
   "name": "python",
   "nbconvert_exporter": "python",
   "pygments_lexer": "ipython3",
   "version": "3.6.4"
  }
 },
 "nbformat": 4,
 "nbformat_minor": 2
}
