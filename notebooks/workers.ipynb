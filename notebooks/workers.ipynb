{
 "cells": [
  {
   "cell_type": "code",
   "execution_count": 5,
   "metadata": {},
   "outputs": [],
   "source": [
    "from os import getcwd\n",
    "from kryptobot.portfolio.manager import Manager\n",
    "\n",
    "config = getcwd() + '/config.json'\n",
    "manager = Manager(config=config)\n",
    "\n",
    "params = {\n",
    "    'strategy': 'PocStrategy',\n",
    "    'type': 'titan',\n",
    "    'interval': '15m',\n",
    "    'exchange': 'cryptopia',\n",
    "    'base_currency': 'ETH',\n",
    "    'quote_currency': 'BTC',\n",
    "    'is_simulated': True,\n",
    "    'fma_periods': 100,\n",
    "    'sma_periods': 400,\n",
    "    'sim_balance': 10\n",
    "}\n",
    "\n",
    "manager.run_strategy(params)"
   ]
  },
  {
   "cell_type": "code",
   "execution_count": null,
   "metadata": {},
   "outputs": [],
   "source": []
  }
 ],
 "metadata": {
  "kernelspec": {
   "display_name": "Python 3",
   "language": "python",
   "name": "python3"
  },
  "language_info": {
   "codemirror_mode": {
    "name": "ipython",
    "version": 3
   },
   "file_extension": ".py",
   "mimetype": "text/x-python",
   "name": "python",
   "nbconvert_exporter": "python",
   "pygments_lexer": "ipython3",
   "version": "3.6.4"
  }
 },
 "nbformat": 4,
 "nbformat_minor": 2
}
