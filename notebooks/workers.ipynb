{
 "cells": [
  {
   "cell_type": "code",
   "execution_count": 5,
   "metadata": {},
   "outputs": [],
   "source": [
    "from kryptobot.hydra import Hydra\n",
    "hydra = Hydra()\n",
    "poc_params = {\n",
    "    'interval': '5m',\n",
    "    'exchange': 'bittrex',\n",
    "    'base_currency': 'NMR',\n",
    "    'quote_currency': 'BTC',\n",
    "    'is_simulated': True,\n",
    "    'fma_periods': 3,\n",
    "    'sma_periods': 21,\n",
    "    'sim_balance': 10\n",
    "}\n",
    "# hydra.run_harvester('harvester', params)\n",
    "hydra.run_strategy('PocStrategy', poc_params)"
   ]
  },
  {
   "cell_type": "code",
   "execution_count": null,
   "metadata": {},
   "outputs": [],
   "source": []
  }
 ],
 "metadata": {
  "kernelspec": {
   "display_name": "Python 3",
   "language": "python",
   "name": "python3"
  },
  "language_info": {
   "codemirror_mode": {
    "name": "ipython",
    "version": 3
   },
   "file_extension": ".py",
   "mimetype": "text/x-python",
   "name": "python",
   "nbconvert_exporter": "python",
   "pygments_lexer": "ipython3",
   "version": "3.6.4"
  }
 },
 "nbformat": 4,
 "nbformat_minor": 2
}
