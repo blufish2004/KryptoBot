{
 "cells": [
  {
   "cell_type": "code",
   "execution_count": null,
   "metadata": {},
   "outputs": [],
   "source": [
    "from rq import Connection, Worker\n",
    "import redis\n",
    "# from ..bot import Bot\n",
    "\n",
    "conn = redis.StrictRedis(host='redis', port=6379, db=0)\n",
    "\n",
    "\n",
    "# PocStrategy(\"5m\", 'bittrex', 'SYS', 'BTC', True, 12, 96, sim_balance=10)\n",
    "def launch_strategy(strategy, exchange, interval, pair, is_simulated):\n",
    "    # bot = Bot()\n",
    "    print(strategy, exchange, interval, pair, is_simulated)\n",
    "\n",
    "\n",
    "with Connection(connection=conn):\n",
    "    worker = Worker('strategies')\n",
    "    worker.work()\n"
   ]
  },
  {
   "cell_type": "code",
   "execution_count": null,
   "metadata": {},
   "outputs": [
    {
     "name": "stderr",
     "output_type": "stream",
     "text": [
      "03:17:48 RQ worker 'rq:worker:a0968b671f02.188' started, version 0.10.0\n",
      "03:17:48 *** Listening on strategies...\n",
      "03:17:48 Cleaning registries for queue: strategies\n"
     ]
    }
   ],
   "source": [
    "from kryptobot.hydra import Hydra\n",
    "\n",
    "hydra = Hydra()\n",
    "hydra.test()"
   ]
  },
  {
   "cell_type": "code",
   "execution_count": null,
   "metadata": {},
   "outputs": [],
   "source": []
  }
 ],
 "metadata": {
  "kernelspec": {
   "display_name": "Python 3",
   "language": "python",
   "name": "python3"
  },
  "language_info": {
   "codemirror_mode": {
    "name": "ipython",
    "version": 3
   },
   "file_extension": ".py",
   "mimetype": "text/x-python",
   "name": "python",
   "nbconvert_exporter": "python",
   "pygments_lexer": "ipython3",
   "version": "3.6.4"
  }
 },
 "nbformat": 4,
 "nbformat_minor": 2
}
